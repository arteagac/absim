{
  "nbformat": 4,
  "nbformat_minor": 0,
  "metadata": {
    "colab": {
      "name": "Simulation.ipynb",
      "provenance": [],
      "collapsed_sections": [],
      "authorship_tag": "ABX9TyO6Ld+WeSiJ9eu5PiDO50Dk",
      "include_colab_link": true
    },
    "kernelspec": {
      "name": "python3",
      "display_name": "Python 3"
    },
    "language_info": {
      "name": "python"
    }
  },
  "cells": [
    {
      "cell_type": "markdown",
      "metadata": {
        "id": "view-in-github",
        "colab_type": "text"
      },
      "source": [
        "<a href=\"https://colab.research.google.com/github/arteagac/absim/blob/main/simulation_test.ipynb\" target=\"_parent\"><img src=\"https://colab.research.google.com/assets/colab-badge.svg\" alt=\"Open In Colab\"/></a>"
      ]
    },
    {
      "cell_type": "code",
      "metadata": {
        "id": "r4QrbBr_Yfyd"
      },
      "source": [
        "%matplotlib nbagg\n",
        "import numpy as np\n",
        "import matplotlib.pyplot as plt\n",
        "from matplotlib import animation\n",
        "from IPython.display import HTML\n",
        "from matplotlib.patches import Circle\n",
        "from matplotlib.patches import Arrow\n",
        "from matplotlib.lines import Line2D\n",
        "from scipy.spatial import distance_matrix\n",
        "FPS = 20"
      ],
      "execution_count": null,
      "outputs": []
    },
    {
      "cell_type": "code",
      "metadata": {
        "id": "K1DysDJScOqd"
      },
      "source": [
        "def distance(a, b):\n",
        "    \"a and b are arrays of shape (2, )\"\n",
        "    return np.sqrt(np.sum((np.power(a-b, 2))))\n",
        "\n",
        "def signed_angle(a, b):\n",
        "    \"\"\"Angle in radians. a and b are arrays of shape (2, )\"\"\"\n",
        "    return np.arctan2(a[0]*b[1] - a[1]*b[0], a.dot(b))\n",
        "\n",
        "def normalize(a):\n",
        "    \"\"\"Normalizes vector to unit length. a has shape (2, 0)\"\"\"\n",
        "    return a/np.sqrt(a.dot(a))\n",
        "\n",
        "class PathPoint:\n",
        "    def __init__(self, position, radius):\n",
        "        self.position = position\n",
        "        self.radius = radius\n",
        "    \n",
        "    def render_shapes(self):\n",
        "        return [Circle(self.position, self.radius, color='r', fill=False)]\n",
        "\n",
        "class Wall:\n",
        "    def __init__(self, points):\n",
        "        self.start, self.end = points[0], points[1]\n",
        "    \n",
        "    def render_shapes(self):\n",
        "        return [Line2D((self.start[0], self.end[0]), (self.start[1], self.end[1]))]\n",
        "\n",
        "class Civilian:\n",
        "    def __init__(self, position):\n",
        "        self.position = position\n",
        "        self.radius = .5\n",
        "        self.rotation = 0\n",
        "        self.desired_speed = 1.29\n",
        "        self.path = None\n",
        "        self.next_path_point = 0\n",
        "\n",
        "    def get_next_target(self):\n",
        "        if self.next_path_point == len(self.path):  # Completed path\n",
        "            return None\n",
        "        curr_target = self.path[self.next_path_point]\n",
        "        dist_to_curr_target = distance(self.position, curr_target.position)\n",
        "        if dist_to_curr_target < curr_target.radius:  # Reached a new path point\n",
        "            self.next_path_point += 1\n",
        "        return self.path[self.next_path_point].position\n",
        "\n",
        "    def move_basic(self):\n",
        "        delta_time = 1.0/FPS\n",
        "        next_target = self.get_next_target()\n",
        "        if next_target is not None:\n",
        "            self.rotation = signed_angle(self.position, next_target)\n",
        "            velocity = self.desired_speed*normalize(self.position - next_target)\n",
        "            self.position += velocity*delta_time\n",
        "            \n",
        "\n",
        "    def render_shapes(self):\n",
        "        direc = self.position + np.array([self.radius*np.cos(self.rotation), self.radius*np.sin(self.rotation)])\n",
        "        return [Circle(self.position, self.radius, color='g'),\n",
        "                Line2D((self.position[0], direc[0]), (self.position[1], direc[1]), color='w')]"
      ],
      "execution_count": null,
      "outputs": []
    },
    {
      "cell_type": "code",
      "metadata": {
        "id": "_oyU1zAwYseb"
      },
      "source": [
        "# Walls \n",
        "hw = 4\n",
        "walls_pos = np.array([\n",
        "                      [[10, 10], [50, 10]],\n",
        "                      [[50, 10], [50, 50]],\n",
        "                      [[50, 50], [10, 50]],\n",
        "                      [[10, 10 - hw], [50 + hw, 10 - hw]],\n",
        "                      [[50 + hw, 10 - hw], [50 + hw, 50 + hw]],\n",
        "                      [[50 + hw, 50 + hw], [10, 50 + hw]],                      \n",
        "                      ]).astype(float)\n",
        "\n",
        "walls = [Wall(wpos) for wpos in walls_pos]\n",
        "\n",
        "# Path points\n",
        "ppoints_pos = np.array([[10,  10 - hw/2],\n",
        "                        [50 + hw/2, 10 - hw/2],\n",
        "                        [50 + hw/2, 50 + hw/2],\n",
        "                        [10, 50 + hw/2],\n",
        "                        [0, 60]\n",
        "                        ]).astype(float)\n",
        "\n",
        "ppoints = [PathPoint(ppos, .7*(hw/2)) for ppos in ppoints_pos]\n",
        "n_civilians = 30\n",
        "civilians_pos = np.array([5, 5]) + np.random.randint(-5, 5, (n_civilians, 2)).astype(float)\n",
        "civilians = [Civilian(cpos) for cpos in civilians_pos]\n",
        "for civilian in civilians:\n",
        "    civilian.path = ppoints\n",
        "\n",
        "static_elements = walls + ppoints\n",
        "dynamic_elements = civilians\n",
        "\n",
        "def tick():\n",
        "    for civilian in civilians:\n",
        "        civilian.move_basic()\n",
        "\n",
        "fig = plt.figure(figsize=(10, 10))\n",
        "rax = fig.add_subplot(1, 1, 1, aspect=1) \n",
        "rax.set_xlim([0, 60])\n",
        "rax.set_ylim([0, 60])\n",
        "rax.grid()\n",
        "\n",
        "#for elem in static_elements + dynamic_elements:\n",
        "#    for shape in elem.render_shapes():\n",
        "#        rax.add_artist(shape)"
      ],
      "execution_count": null,
      "outputs": []
    },
    {
      "cell_type": "code",
      "metadata": {
        "id": "6Cux93x-vJ6O"
      },
      "source": [
        "#------- ANIMATE --------\n",
        "sim_time = 5 # seconds\n",
        "\n",
        "fig = plt.figure(figsize=(10, 10))\n",
        "rax = fig.add_subplot(1, 1, 1, aspect=1) \n",
        "rax.set_xlim([0, 60])\n",
        "rax.set_ylim([0, 60])\n",
        "rax.grid()\n",
        "\n",
        "\n",
        "for elem in static_elements:\n",
        "    for shape in elem.render_shapes():\n",
        "        rax.add_artist(shape)\n",
        "\n",
        "#def animate_init():\n",
        "#    return [shape for shape in elem.render_shapes() for elem in dynamic_elements]\n",
        "dynamic_artists = [shape for shape in elem.render_shapes() for elem in dynamic_elements]\n",
        "\n",
        "def copy_shape_data(source, dest):\n",
        "    if isinstance(source, Line2D):\n",
        "        dest_shape.set_data(source.xdata)\n",
        "\n",
        "def animate_update(frame):\n",
        "    tick()\n",
        "    return [shape for shape in elem.render_shapes() for elem in dynamic_elements]\n",
        "\n",
        "anim = animation.FuncAnimation(fig, animate_update, frames=sim_time*FPS, #init_func=animate_init,\n",
        "                               interval=1000//FPS, blit=False)\n",
        "\n",
        "HTML(anim.to_html5_video())"
      ],
      "execution_count": null,
      "outputs": []
    },
    {
      "cell_type": "code",
      "metadata": {
        "id": "IPSxnRBK30Rv"
      },
      "source": [
        ""
      ],
      "execution_count": null,
      "outputs": []
    },
    {
      "cell_type": "code",
      "metadata": {
        "id": "6LMYbxWBn6I8"
      },
      "source": [
        "%matplotlib nbagg\n",
        "import numpy as np\n",
        "import matplotlib.pyplot as plt\n",
        "from matplotlib import animation\n",
        "from IPython.display import HTML, Image \n",
        "from matplotlib.patches import Circle\n",
        "\n",
        "fig = plt.figure(figsize=(10, 10))\n",
        "rax = fig.add_subplot(1, 1, 1, aspect=1) \n",
        "rax.set_xlim([0, 800])\n",
        "rax.set_ylim([0, 800])\n",
        "y = 20\n",
        "\n",
        "circles = [Circle([j*1, y], 10) for j in range(600)]\n",
        "artists = [rax.add_artist(circle) for circle in circles]\n",
        "\n",
        "def init():\n",
        "    return artists\n",
        "\n",
        "def update(i):\n",
        "    for circle in circles:\n",
        "        circle.center = (circle.center[0] , i+20)\n",
        "    #y += 1\n",
        "    return artists\n",
        "\n",
        "anim = animation.FuncAnimation(fig, update, \n",
        "                               init_func=init, \n",
        "                               frames=100, \n",
        "                               interval=50,\n",
        "                               blit=False)\n",
        "\n",
        "HTML(anim.to_html5_video())\n"
      ],
      "execution_count": null,
      "outputs": []
    },
    {
      "cell_type": "code",
      "metadata": {
        "colab": {
          "base_uri": "https://localhost:8080/",
          "height": 35
        },
        "id": "KSH_-YoPTFsh",
        "outputId": "415774db-ed1c-4b18-a203-f3c804b0fde4"
      },
      "source": [
        "from IPython.display import Javascript\n",
        "from time import sleep\n",
        "def target_func(comm, msg):\n",
        "    print(msg['content']['data'])\n",
        "    comm.send({'foo': 2})\n",
        "\n",
        "get_ipython().kernel.comm_manager.register_target('comm_target', target_func)\n",
        "\n",
        "Javascript('''\n",
        "(async () => {\n",
        "  const channel = await google.colab.kernel.comms.open('comm_target', 'the data', []);\n",
        "  console.log(Object.keys(channel));\n",
        "    for await (const message of channel.messages) {\n",
        "        console.log(message);\n",
        "        channel.send({'ack': 1})\n",
        "    }\n",
        "})()\n",
        "''')"
      ],
      "execution_count": 19,
      "outputs": [
        {
          "output_type": "execute_result",
          "data": {
            "application/javascript": [
              "\n",
              "(async () => {\n",
              "  const channel = await google.colab.kernel.comms.open('comm_target', 'the data', []);\n",
              "  console.log(Object.keys(channel));\n",
              "    for await (const message of channel.messages) {\n",
              "        console.log(message);\n",
              "        channel.send({'ack': 1})\n",
              "    }\n",
              "})()\n"
            ],
            "text/plain": [
              "<IPython.core.display.Javascript object>"
            ]
          },
          "metadata": {},
          "execution_count": 19
        },
        {
          "output_type": "stream",
          "name": "stdout",
          "text": [
            "the data\n"
          ]
        }
      ]
    },
    {
      "cell_type": "code",
      "metadata": {
        "id": "dV_6AmaegSfQ",
        "colab": {
          "base_uri": "https://localhost:8080/",
          "height": 17
        },
        "outputId": "26e41b09-06a3-4c75-fc4e-e1da5897aaa5"
      },
      "source": [
        "from IPython.display import display, HTML, Javascript\n",
        "display(Javascript(\"google.colab.kernel.comms.registerTarget('absim', (comm, msg) => {console.log(msg.data)});\"))\n",
        "\n",
        "from ipykernel.comm import Comm\n",
        "def send(comm, data):\n",
        "    comm._publish_msg('comm_open', data=data, target_name=comm.target_name, target_module=comm.target_module)\n",
        "    comm._closed = False\n",
        "# Use comm to send a message from the kernel\n",
        "comm = Comm(target_name='absim')\n",
        "send(comm, {'foo': 'hi from python'})\n",
        "comm.close()"
      ],
      "execution_count": 49,
      "outputs": [
        {
          "output_type": "display_data",
          "data": {
            "application/javascript": [
              "google.colab.kernel.comms.registerTarget('absim', (comm, msg) => {console.log(msg.data)});"
            ],
            "text/plain": [
              "<IPython.core.display.Javascript object>"
            ]
          },
          "metadata": {}
        }
      ]
    },
    {
      "cell_type": "code",
      "metadata": {
        "id": "D5-m8ZOQmHgf"
      },
      "source": [
        "def draw_circle(center, radius, fill_color='green', line_color='#003300', line_width=1):\n",
        "    html = f\"\"\"\n",
        "    g.beginPath();\n",
        "    g.arc({center[0]}, {center[1]}, {radius}, 0, 2 * Math.PI, false);\n",
        "    g.fillStyle = '{fill_color}';\n",
        "    g.fill();\n",
        "    g.lineWidth = {line_width};\n",
        "    g.strokeStyle = '{line_color}';\n",
        "    g.stroke();\n",
        "    \"\"\"\n",
        "    return html\n",
        "\n",
        "from IPython.display import display, HTML, Javascript\n",
        "from time import sleep\n",
        "\n",
        "cwidth, cheight = 800, 800\n",
        "html_src = f\"<canvas id='sim_canvas' width={cwidth} height={cheight}> </canvas>\"\n",
        "display(HTML(html_src))\n",
        "y = 20\n",
        "for i in range(100):\n",
        "    js_src = f\"const g = document.getElementById('sim_canvas').getContext('2d');g.clearRect(0, 0, {cwidth}, {cheight});\"\n",
        "    circles = [draw_circle([j*1, y], 10) for j in range(600)]\n",
        "    js_src += ''.join(circles)\n",
        "    display(Javascript(js_src))\n",
        "    sleep(.05)\n",
        "    y += 1"
      ],
      "execution_count": null,
      "outputs": []
    },
    {
      "cell_type": "code",
      "metadata": {
        "id": "MgcYgS9eV36g"
      },
      "source": [
        "from IPython.display import display, HTML, Javascript\n",
        "from time import sleep\n",
        "\n",
        "cwidth, cheight = 800, 800\n",
        "html_src = f\"<canvas id='sim_canvas' width={cwidth} height={cheight}> </canvas>\"\n",
        "display(HTML(html_src))\n",
        "\n",
        "Javascript(\"\"\"\n",
        "function sleep(ms) {\n",
        "  return new Promise(resolve => setTimeout(resolve, ms));\n",
        "}\n",
        "\n",
        "async function demo() {\n",
        "    var y = 20;\n",
        "    for (var i=0; i < 100; i++){\n",
        "        const g = document.getElementById('sim_canvas').getContext('2d');\n",
        "        g.clearRect(0, 0, 800, 800);\n",
        "        for (var j=0; j <600; j++){\n",
        "            g.beginPath();\n",
        "            g.arc(j*1, y, 10, 0, 2 * Math.PI, false);\n",
        "            g.fillStyle = 'green';\n",
        "            g.fill();\n",
        "            //g.lineWidth = 2;\n",
        "            //g.strokeStyle = '#003300';\n",
        "            g.stroke();\n",
        "        }\n",
        "        y = y +1;\n",
        "        await sleep(50);\n",
        "    }\n",
        "}\n",
        "demo();\n",
        "\n",
        "\"\"\")"
      ],
      "execution_count": null,
      "outputs": []
    },
    {
      "cell_type": "code",
      "metadata": {
        "colab": {
          "base_uri": "https://localhost:8080/",
          "height": 421
        },
        "id": "eXQlt4AXgBjR",
        "outputId": "278905b6-42b2-4751-9877-bec725b43618"
      },
      "source": [
        "from IPython.display import display, HTML, Javascript\n",
        "from time import sleep\n",
        "\n",
        "def draw_circle(center, radius, color='#003300', linewidth=1, fill=True):\n",
        "    return f\"draw_circle,{center[0]},{center[1]},{radius},{color},{linewidth},{1*fill}\"\n",
        "\n",
        "def draw_line(a, b, color='#003300', linewidth=1):\n",
        "    return f\"draw_line,{a[0]},{a[1]},{b[0]},{b[1]},{color},{line_width}\"\n",
        "\n",
        "from ipykernel.comm import Comm\n",
        "def send(comm, data):\n",
        "    comm._publish_msg('comm_open', data=data, target_name=comm.target_name, target_module=comm.target_module)\n",
        "    comm._closed = False\n",
        "\n",
        "html_src = \"\"\"\n",
        "<canvas id='sim_canvas' width=800 height=400> </canvas>\n",
        "<script>\n",
        "class JSDrawing {\n",
        "    constructor(canvasId) {\n",
        "        this.g = document.getElementById(canvasId).getContext('2d');\n",
        "    }\n",
        "\n",
        "    drawCircle(x, y, radius, color, linewidth, fill){\n",
        "        console.log([x, y, radius, color, linewidth, fill])\n",
        "        this.g.beginPath();\n",
        "        this.g.arc(x, y, radius, 0, 2*Math.PI, false);\n",
        "        if(fill == 1){\n",
        "            this.g.fillStyle = color;\n",
        "            this.g.fill();\n",
        "        }else{\n",
        "            this.g.lineWidth = linewidth;\n",
        "            this.g.strokeStyle = color;\n",
        "        }\n",
        "        this.g.stroke();\n",
        "    }\n",
        "\n",
        "    drawLine(ax, ay, bx, by, color, linewidth){\n",
        "        this.g.beginPath();\n",
        "        this.g.moveTo(ax, ay);\n",
        "        this.g.lineTo(bx, by);\n",
        "        this.g.lineWidth = linewidth;\n",
        "        this.g.strokeStyle = color;\n",
        "        this.g.stroke();\n",
        "    }\n",
        "\n",
        "    executeCommand(command){\n",
        "        const args = command.split(\",\");\n",
        "        const action = args[0];\n",
        "        switch(action){\n",
        "            case \"draw_circle\":\n",
        "                this.drawCircle(args[1], args[2], args[3], args[4], args[5], args[6])\n",
        "            break;\n",
        "            case \"draw_line\":\n",
        "                this.drawLine(args[1], args[2], args[3], args[4], args[5], args[6])\n",
        "            break;\n",
        "        }\n",
        "    }\n",
        "\n",
        "    processCommands(commands){\n",
        "        commands = commands.split(\"|\");\n",
        "        this.g.clearRect(0, 0, 800, 400);\n",
        "        for(let i=0; i<commands.length; i++){\n",
        "            this.executeCommand(commands[i]);\n",
        "        }\n",
        "\n",
        "    }\n",
        "}\n",
        "\n",
        "const dhelper = new JSDrawing('sim_canvas');\n",
        "google.colab.kernel.comms.registerTarget('absim', (comm, msg) => {dhelper.processCommands(msg.data['commands'])});\n",
        "//Jupyter.notebook.kernel.comm_manager.register_target('absim', (comm, msg) => {dhelper.processCommands(msg.data['commands'])});\n",
        "</script>\n",
        "\"\"\"\n",
        "i=1\n",
        "display(HTML(html_src))\n",
        "\n",
        "# Use comm to send a message from the kernel\n",
        "comm = Comm(target_name='absim')\n",
        "\n",
        "y = 20\n",
        "for i in range(100):\n",
        "    circles = [draw_circle([j*1, y], 10) for j in range(600)]\n",
        "    send(comm, {'commands': '|'.join(circles)})\n",
        "    sleep(.05)\n",
        "    y += 1\n",
        "comm.close()"
      ],
      "execution_count": 61,
      "outputs": [
        {
          "output_type": "display_data",
          "data": {
            "text/html": [
              "\n",
              "<canvas id='sim_canvas' width=800 height=400> </canvas>\n",
              "<script>\n",
              "class JSDrawing {\n",
              "    constructor(canvasId) {\n",
              "        this.g = document.getElementById(canvasId).getContext('2d');\n",
              "    }\n",
              "\n",
              "    drawCircle(x, y, radius, color, linewidth, fill){\n",
              "        console.log([x, y, radius, color, linewidth, fill])\n",
              "        this.g.beginPath();\n",
              "        this.g.arc(x, y, radius, 0, 2*Math.PI, false);\n",
              "        if(fill == 1){\n",
              "            this.g.fillStyle = color;\n",
              "            this.g.fill();\n",
              "        }else{\n",
              "            this.g.lineWidth = linewidth;\n",
              "            this.g.strokeStyle = color;\n",
              "        }\n",
              "        this.g.stroke();\n",
              "    }\n",
              "\n",
              "    drawLine(ax, ay, bx, by, color, linewidth){\n",
              "        this.g.beginPath();\n",
              "        this.g.moveTo(ax, ay);\n",
              "        this.g.lineTo(bx, by);\n",
              "        this.g.lineWidth = linewidth;\n",
              "        this.g.strokeStyle = color;\n",
              "        this.g.stroke();\n",
              "    }\n",
              "\n",
              "    executeCommand(command){\n",
              "        const args = command.split(\",\");\n",
              "        const action = args[0];\n",
              "        switch(action){\n",
              "            case \"draw_circle\":\n",
              "                this.drawCircle(args[1], args[2], args[3], args[4], args[5], args[6])\n",
              "            break;\n",
              "            case \"draw_line\":\n",
              "                this.drawLine(args[1], args[2], args[3], args[4], args[5], args[6])\n",
              "            break;\n",
              "        }\n",
              "    }\n",
              "\n",
              "    processCommands(commands){\n",
              "        commands = commands.split(\"|\");\n",
              "        this.g.clearRect(0, 0, 800, 400);\n",
              "        for(let i=0; i<commands.length; i++){\n",
              "            this.executeCommand(commands[i]);\n",
              "        }\n",
              "\n",
              "    }\n",
              "}\n",
              "\n",
              "const dhelper = new JSDrawing('sim_canvas');\n",
              "google.colab.kernel.comms.registerTarget('absim', (comm, msg) => {dhelper.processCommands(msg.data['commands'])});\n",
              "//Jupyter.notebook.kernel.comm_manager.register_target('absim', (comm, msg) => {dhelper.processCommands(msg.data['commands'])});\n",
              "</script>\n"
            ],
            "text/plain": [
              "<IPython.core.display.HTML object>"
            ]
          },
          "metadata": {}
        }
      ]
    }
  ]
}